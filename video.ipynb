{
 "cells": [
  {
   "cell_type": "code",
   "execution_count": 3,
   "id": "b3316f0d",
   "metadata": {},
   "outputs": [],
   "source": [
    "import cv2\n",
    "import numpy as np\n",
    "import matplotlib.pyplot as plt\n",
    "\n",
    "from glob import glob\n",
    "\n",
    "import IPython.display as ipd\n",
    "\n",
    "import subprocess\n"
   ]
  },
  {
   "cell_type": "markdown",
   "id": "8b24c9af",
   "metadata": {},
   "source": [
    "Input requirements for final usage:\n",
    "1) Move the frame of the video to one where the water droplet full formation plays\n",
    "2) Reshape the bounding box to capture it entirely (range for us to focus on for the counting)\n",
    "3) Select an image of the video/the hex color of a full water droplet in the video (so we have a color to check against)\n",
    "4) Start and end points of the video\n",
    "\n",
    "Outputs\n",
    "1) Video duration\n",
    "2) Number of droplets formed in the video"
   ]
  },
  {
   "cell_type": "code",
   "execution_count": 4,
   "id": "fa75b871",
   "metadata": {},
   "outputs": [
    {
     "name": "stdout",
     "output_type": "stream",
     "text": [
      "Video Dimensions: width: 1280.0  height:  720.0\n",
      "FPS:  30.279991825056204\n"
     ]
    }
   ],
   "source": [
    "input_file = \"./labvid.mov\"\n",
    "cap = cv2.VideoCapture(input_file)\n",
    "if not cap.isOpened():\n",
    "    raise IOError(\"Cannot open video\")\n",
    "\n",
    "print(\"Video Dimensions: width:\", cap.get(cv2.CAP_PROP_FRAME_WIDTH), \" height: \", cap.get(cv2.CAP_PROP_FRAME_HEIGHT))\n",
    "print(\"FPS: \", cap.get(cv2.CAP_PROP_FPS))\n",
    "\n",
    "try:\n",
    "    # while(cap.isOpened()):\n",
    "    while True:\n",
    "        ret, img = cap.read()\n",
    "        if not ret:\n",
    "            break\n",
    "        # else:\n",
    "        #     imgdata = img[:, :, (2, 1, 0)] This code is because opencv apparently inverts rgb colors to bgr, I might not need this though\n",
    "\n",
    "        cv2.imshow(\"duuuude\", img)\n",
    "        cv2.waitKey(1)\n",
    "except KeyboardInterrupt:\n",
    "    pass\n",
    "\n",
    "finally:\n",
    "    cap.release()\n",
    "    cv2.destroyAllWindows()"
   ]
  },
  {
   "cell_type": "code",
   "execution_count": 5,
   "id": "737efa73",
   "metadata": {},
   "outputs": [],
   "source": [
    "cap.release()\n",
    "cv2.destroyAllWindows()"
   ]
  },
  {
   "cell_type": "markdown",
   "id": "af8e9cc1",
   "metadata": {},
   "source": [
    "Great tutorial video\n",
    "https://www.youtube.com/watch?v=b9QIUwlFeSk"
   ]
  }
 ],
 "metadata": {
  "kernelspec": {
   "display_name": "base",
   "language": "python",
   "name": "python3"
  },
  "language_info": {
   "codemirror_mode": {
    "name": "ipython",
    "version": 3
   },
   "file_extension": ".py",
   "mimetype": "text/x-python",
   "name": "python",
   "nbconvert_exporter": "python",
   "pygments_lexer": "ipython3",
   "version": "3.11.7"
  }
 },
 "nbformat": 4,
 "nbformat_minor": 5
}
